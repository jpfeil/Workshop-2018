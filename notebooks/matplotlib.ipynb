{
 "cells": [
  {
   "cell_type": "markdown",
   "metadata": {},
   "source": [
    "# Matplotlib\n",
    "\n",
    "The major plotting library is matplotlib. This is an essential library for making graphs and figures using python. If you can master this library, then you are well on your way to making publication quality figures."
   ]
  },
  {
   "cell_type": "code",
   "execution_count": null,
   "metadata": {},
   "outputs": [],
   "source": [
    "# Let's use some more python magic to plot\n",
    "# figures inline with the notebook\n",
    "%matplotlib inline\n",
    "\n",
    "# You will mostly use the pyplot library\n",
    "import matplotlib.pyplot as plt\n",
    "import pandas as pd\n",
    "import numpy as np\n",
    "\n",
    "from matplotlib.ticker import MaxNLocator\n",
    "from collections import namedtuple"
   ]
  },
  {
   "cell_type": "markdown",
   "metadata": {},
   "source": [
    "There are many ways to get started with plotting, but I think using the subplots function is the easiest and most flexible way to get started."
   ]
  },
  {
   "cell_type": "code",
   "execution_count": null,
   "metadata": {},
   "outputs": [],
   "source": [
    "fig, ax = plt.subplots(1, figsize=(5, 5))"
   ]
  },
  {
   "cell_type": "code",
   "execution_count": null,
   "metadata": {},
   "outputs": [],
   "source": [
    "# Next, let's plot a line\n",
    "\n",
    "data = range(0, 10)\n",
    "\n",
    "fig, ax = plt.subplots(1, figsize=(5, 5))\n",
    "\n",
    "# The plot function will plot a line\n",
    "ax.plot(data, data)"
   ]
  },
  {
   "cell_type": "code",
   "execution_count": null,
   "metadata": {},
   "outputs": [],
   "source": [
    "# The scatter function will plot a scatter plot\n",
    "\n",
    "fig, ax = plt.subplots(1, figsize=(5, 5))\n",
    "\n",
    "ax.scatter(data, data)"
   ]
  },
  {
   "cell_type": "markdown",
   "metadata": {},
   "source": [
    "## Exercises:\n",
    "\n",
    "1. Now write a function that transforms a list of data and plots it using the plot function and the scatter function.\n",
    "\n",
    "2. Write a second function that does a different transformation. Plot both functions in the same cell. \n",
    "\n",
    "Be creative with the transformation. You can use the numpy functions like np.exp, np.sin, np.cos, np.pow."
   ]
  },
  {
   "cell_type": "code",
   "execution_count": null,
   "metadata": {},
   "outputs": [],
   "source": [
    "# We will be using the Treehouse clinical data as well:\n",
    "\n",
    "clinical = pd.read_csv('../data/TreehousePEDv5_clinical_metadata.2018-05-09.tsv',\n",
    "                       sep='\\t',\n",
    "                       index_col=0)"
   ]
  },
  {
   "cell_type": "markdown",
   "metadata": {},
   "source": [
    "Next we are going to use commonly used matplotlib functions. The first one is to plot a histogram. A histogram is a valuable visualization for looking at the distribution of your data."
   ]
  },
  {
   "cell_type": "code",
   "execution_count": null,
   "metadata": {},
   "outputs": [],
   "source": [
    "# https://matplotlib.org/gallery/statistics/hist.html\n",
    "\n",
    "N_points = 100000\n",
    "n_bins = 20\n",
    "\n",
    "# Generate a normal distribution, center at x=0 and y=5\n",
    "x = np.random.randn(N_points)\n",
    "\n",
    "fig, axs = plt.subplots()\n",
    "\n",
    "_ = axs.hist(x, \n",
    "             bins=n_bins)"
   ]
  },
  {
   "cell_type": "markdown",
   "metadata": {},
   "source": [
    "## Exercise:\n",
    "1. Make a histogram of the ages in the Treehouse compendium\n",
    "2. Is this what you expected for a pediatric gene expression comendium?"
   ]
  },
  {
   "cell_type": "markdown",
   "metadata": {},
   "source": [
    "The next function is a barplot. A barplot is valuable for displaying categorical data. You will likely use a barplot to compare the means and standard deviations across groups in your analysis."
   ]
  },
  {
   "cell_type": "code",
   "execution_count": null,
   "metadata": {},
   "outputs": [],
   "source": [
    "# https://matplotlib.org/gallery/statistics/barchart_demo.html\n",
    "\n",
    "n_groups = 5\n",
    "\n",
    "men = (20, 35, 30, 35, 27)\n",
    "women = (25, 32, 34, 20, 25)\n",
    "\n",
    "fig, ax = plt.subplots()\n",
    "\n",
    "index = np.arange(n_groups)\n",
    "bar_width = 0.35\n",
    "\n",
    "opacity = 0.4\n",
    "\n",
    "rects1 = ax.bar(index, \n",
    "                men, \n",
    "                bar_width,\n",
    "                alpha=opacity, \n",
    "                color='b',\n",
    "                label='Men')\n",
    "\n",
    "rects2 = ax.bar(index + bar_width, \n",
    "                women, \n",
    "                bar_width,\n",
    "                alpha=opacity, \n",
    "                color='r',\n",
    "                label='Women')\n",
    "\n",
    "ax.set_xlabel('Group')\n",
    "ax.set_ylabel('Scores')\n",
    "ax.set_title('Scores by group and gender')\n",
    "ax.set_xticks(index + bar_width / 2)\n",
    "ax.set_xticklabels(('A', 'B', 'C', 'D', 'E'))\n",
    "ax.legend()\n",
    "\n",
    "fig.tight_layout()\n",
    "plt.show()"
   ]
  },
  {
   "cell_type": "markdown",
   "metadata": {},
   "source": [
    "## Exercises:\n",
    "\n",
    "1. Make a barplot for the number of men, women, and unknown samples in the top 5 most abundant diseases in the compendium."
   ]
  },
  {
   "cell_type": "code",
   "execution_count": null,
   "metadata": {},
   "outputs": [],
   "source": []
  }
 ],
 "metadata": {
  "kernelspec": {
   "display_name": "Python 3",
   "language": "python",
   "name": "python3"
  },
  "language_info": {
   "codemirror_mode": {
    "name": "ipython",
    "version": 3
   },
   "file_extension": ".py",
   "mimetype": "text/x-python",
   "name": "python",
   "nbconvert_exporter": "python",
   "pygments_lexer": "ipython3",
   "version": "3.6.5"
  }
 },
 "nbformat": 4,
 "nbformat_minor": 2
}
