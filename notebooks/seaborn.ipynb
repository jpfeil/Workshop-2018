{
 "cells": [
  {
   "cell_type": "markdown",
   "metadata": {},
   "source": [
    "## Seaborn\n",
    "\n",
    "Matplotlib is great, but it takes a while to format the figures to make them presentable. Seaborn is a python library that builds upon matplotlib to make the figures more effective, but a lot of the grunt work is already factored into the library. Seaborn has many valuable functions. We will discuss distplot, swarmplot, and boxplot. We will use seaborn to explore pediatric gene expression data."
   ]
  },
  {
   "cell_type": "code",
   "execution_count": 2,
   "metadata": {},
   "outputs": [],
   "source": [
    "import seaborn as sns\n",
    "import matplotlib.pyplot as plt\n",
    "import numpy as np\n",
    "import pandas as pd\n",
    "import warnings\n",
    "warnings.filterwarnings('ignore')"
   ]
  },
  {
   "cell_type": "code",
   "execution_count": 11,
   "metadata": {},
   "outputs": [
    {
     "data": {
      "text/html": [
       "<div>\n",
       "<style scoped>\n",
       "    .dataframe tbody tr th:only-of-type {\n",
       "        vertical-align: middle;\n",
       "    }\n",
       "\n",
       "    .dataframe tbody tr th {\n",
       "        vertical-align: top;\n",
       "    }\n",
       "\n",
       "    .dataframe thead th {\n",
       "        text-align: right;\n",
       "    }\n",
       "</style>\n",
       "<table border=\"1\" class=\"dataframe\">\n",
       "  <thead>\n",
       "    <tr style=\"text-align: right;\">\n",
       "      <th></th>\n",
       "      <th>disease</th>\n",
       "      <th>age_in_years</th>\n",
       "      <th>gender</th>\n",
       "    </tr>\n",
       "    <tr>\n",
       "      <th>th_sampleid</th>\n",
       "      <th></th>\n",
       "      <th></th>\n",
       "      <th></th>\n",
       "    </tr>\n",
       "  </thead>\n",
       "  <tbody>\n",
       "    <tr>\n",
       "      <th>TH03_0010_S01</th>\n",
       "      <td>acute leukemia of ambiguous lineage</td>\n",
       "      <td>11.0</td>\n",
       "      <td>female</td>\n",
       "    </tr>\n",
       "    <tr>\n",
       "      <th>TH03_0010_S02</th>\n",
       "      <td>acute leukemia of ambiguous lineage</td>\n",
       "      <td>11.0</td>\n",
       "      <td>female</td>\n",
       "    </tr>\n",
       "    <tr>\n",
       "      <th>TH03_0103_S01</th>\n",
       "      <td>rhabdomyosarcoma</td>\n",
       "      <td>NaN</td>\n",
       "      <td>not reported</td>\n",
       "    </tr>\n",
       "    <tr>\n",
       "      <th>TH03_0104_S01</th>\n",
       "      <td>hepatoblastoma</td>\n",
       "      <td>NaN</td>\n",
       "      <td>not reported</td>\n",
       "    </tr>\n",
       "    <tr>\n",
       "      <th>TH03_0105_S01</th>\n",
       "      <td>rhabdomyosarcoma</td>\n",
       "      <td>NaN</td>\n",
       "      <td>not reported</td>\n",
       "    </tr>\n",
       "  </tbody>\n",
       "</table>\n",
       "</div>"
      ],
      "text/plain": [
       "                                           disease  age_in_years        gender\n",
       "th_sampleid                                                                   \n",
       "TH03_0010_S01  acute leukemia of ambiguous lineage          11.0        female\n",
       "TH03_0010_S02  acute leukemia of ambiguous lineage          11.0        female\n",
       "TH03_0103_S01                     rhabdomyosarcoma           NaN  not reported\n",
       "TH03_0104_S01                       hepatoblastoma           NaN  not reported\n",
       "TH03_0105_S01                     rhabdomyosarcoma           NaN  not reported"
      ]
     },
     "execution_count": 11,
     "metadata": {},
     "output_type": "execute_result"
    }
   ],
   "source": [
    "# We will be using the Treehouse clinical data as well:\n",
    "\n",
    "clinical = pd.read_csv('../data/TreehousePEDv5_clinical_metadata.2018-05-09.tsv',\n",
    "                       sep='\\t',\n",
    "                       index_col=0)\n",
    "\n",
    "clinical.head()"
   ]
  },
  {
   "cell_type": "code",
   "execution_count": 12,
   "metadata": {},
   "outputs": [],
   "source": [
    "# We will be focusing on a form of pediatric cancer known as neuroblastoma\n",
    "samples = clinical[clinical['disease'] == 'neuroblastoma'].index.values"
   ]
  },
  {
   "cell_type": "markdown",
   "metadata": {},
   "source": [
    "## Distplot\n",
    "\n",
    "The distplot function plots the distribution of a data set. Be aware that the distplot will by default create a guassian kernel density estimate for your data. If this is not desired, then set KDE to false. "
   ]
  },
  {
   "cell_type": "code",
   "execution_count": 6,
   "metadata": {},
   "outputs": [
    {
     "data": {
      "text/plain": [
       "<matplotlib.axes._subplots.AxesSubplot at 0x7f8b994a8160>"
      ]
     },
     "execution_count": 6,
     "metadata": {},
     "output_type": "execute_result"
    },
    {
     "data": {
      "image/png": "[encoded data removed]",
      "text/plain": [
       "<Figure size 360x360 with 1 Axes>"
      ]
     },
     "metadata": {},
     "output_type": "display_data"
    }
   ],
   "source": [
    "import numpy as np\n",
    "\n",
    "fig, ax = plt.subplots(1, figsize=(5, 5))\n",
    "\n",
    "data = np.random.normal(0, 10, 1000)\n",
    "sns.distplot(data)"
   ]
  },
  {
   "cell_type": "markdown",
   "metadata": {},
   "source": [
    "### Exercise 1:\n",
    "\n",
    "1. Load in the Treehouse expression data using the pandas read_csv function.\n",
    "2. Subset the expression data using the samples we isolated from the clinical data\n",
    "3. Plot the expression distribution of the MYCN gene using the loc function.\n",
    "   ( e.g. df[\"MYCN\"] )\n",
    "4. Determine if this distribution looks like a normal distribution."
   ]
  },
  {
   "cell_type": "code",
   "execution_count": 13,
   "metadata": {},
   "outputs": [
    {
     "data": {
      "text/html": [
       "<div>\n",
       "<style scoped>\n",
       "    .dataframe tbody tr th:only-of-type {\n",
       "        vertical-align: middle;\n",
       "    }\n",
       "\n",
       "    .dataframe tbody tr th {\n",
       "        vertical-align: top;\n",
       "    }\n",
       "\n",
       "    .dataframe thead th {\n",
       "        text-align: right;\n",
       "    }\n",
       "</style>\n",
       "<table border=\"1\" class=\"dataframe\">\n",
       "  <thead>\n",
       "    <tr style=\"text-align: right;\">\n",
       "      <th></th>\n",
       "      <th>MYCN</th>\n",
       "    </tr>\n",
       "    <tr>\n",
       "      <th>Sample</th>\n",
       "      <th></th>\n",
       "    </tr>\n",
       "  </thead>\n",
       "  <tbody>\n",
       "    <tr>\n",
       "      <th>TH03_0015_S01</th>\n",
       "      <td>3.908813</td>\n",
       "    </tr>\n",
       "    <tr>\n",
       "      <th>TH03_0015_S02</th>\n",
       "      <td>1.748461</td>\n",
       "    </tr>\n",
       "    <tr>\n",
       "      <th>TH06_0284_S01</th>\n",
       "      <td>1.974529</td>\n",
       "    </tr>\n",
       "    <tr>\n",
       "      <th>TH03_0287_S01</th>\n",
       "      <td>5.938992</td>\n",
       "    </tr>\n",
       "    <tr>\n",
       "      <th>TH03_0288_S01</th>\n",
       "      <td>4.674686</td>\n",
       "    </tr>\n",
       "  </tbody>\n",
       "</table>\n",
       "</div>"
      ],
      "text/plain": [
       "                   MYCN\n",
       "Sample                 \n",
       "TH03_0015_S01  3.908813\n",
       "TH03_0015_S02  1.748461\n",
       "TH06_0284_S01  1.974529\n",
       "TH03_0287_S01  5.938992\n",
       "TH03_0288_S01  4.674686"
      ]
     },
     "execution_count": 13,
     "metadata": {},
     "output_type": "execute_result"
    }
   ],
   "source": [
    "exp = pd.read_csv('../data/nbl-expression.tsv',\n",
    "                  sep='\\t', \n",
    "                  header=None,\n",
    "                  index_col=0)\n",
    "\n",
    "exp.index.name = 'Sample'\n",
    "exp.columns = ['MYCN']\n",
    "exp.head()"
   ]
  },
  {
   "cell_type": "code",
   "execution_count": null,
   "metadata": {},
   "outputs": [],
   "source": []
  },
  {
   "cell_type": "markdown",
   "metadata": {},
   "source": [
    "###  Exercise 2:\n",
    "For this exercise we will focus on the TARGET samples because the TARGET samples have additional molecular data associated with them.\n",
    "\n",
    "1. Load in the TARGET samples that are known to be MYCN amplified \n",
    "    pth = \"../data/MYCN-Amplified\"\n",
    "2. Subset the expression matrix again to only include the TARGET samples. \n",
    "3. Create a plot where the MYCN amplified and MYCN non-amplified samples have different colors."
   ]
  },
  {
   "cell_type": "code",
   "execution_count": null,
   "metadata": {},
   "outputs": [],
   "source": []
  },
  {
   "cell_type": "markdown",
   "metadata": {},
   "source": [
    "## Swarmplot \n",
    "\n",
    "The next plot is called a swarmplot. This is another helpful plot for displaying categorical data. One of the benefits of a swarmplot is that it shows jittered data points, which gives an idea of the distribution of the data set.\n",
    "\n",
    "One of the challenges with the seaborn package is that it is somewhat picky in how you give it the data. I've found that the easiest way to use these functions is to create a dataframe in long form. A long-form dataframe has an independent datum on each line. The goal for this next section of the notebook is to create a dataframe where the columns are sample_id, MYCN_status, MYCN_expression. The function call for swarmplot is like so:\n",
    "\n",
    "`sns.swarmplot(x='MYCN_status', y='MYCN_expression', data=df)`"
   ]
  },
  {
   "cell_type": "markdown",
   "metadata": {},
   "source": [
    "### Exercise 3:\n",
    "1. Create a long-form dataframe with the sample_id, MYCN_status, and MYCN_expression values\n",
    "2. Plot the data using the swarmplot function `sns.swarmplot`"
   ]
  },
  {
   "cell_type": "code",
   "execution_count": null,
   "metadata": {},
   "outputs": [],
   "source": []
  },
  {
   "cell_type": "markdown",
   "metadata": {},
   "source": [
    "## Boxplot & Violinplot\n",
    "\n",
    "One nice thing about seaborn is that once you have this dataframe in long-form, you can just plug it into other seaborn functions to see how it looks.\n",
    "\n",
    "Exercise 4:\n",
    "1. Plot the MYCN data using the boxplot function `sns.boxplot`\n",
    "2. Plot the MYCN data using the boxplot function `sns.violinplot`"
   ]
  },
  {
   "cell_type": "code",
   "execution_count": null,
   "metadata": {},
   "outputs": [],
   "source": []
  },
  {
   "cell_type": "markdown",
   "metadata": {},
   "source": [
    "## Multiple plots in one figure\n",
    "\n",
    "I encouraged you to use the plt.subplots function because it makes it straightforward to make more complex figures. We will make a figure here that includes all of the plots you made. To make a 2 by 2 figure, use:\n",
    "\n",
    "`fig, axes = plt.subplots(2, 2, figsize=(10, 10))`\n",
    "\n",
    "Now the axes object contains a matrix of plots. To access each element, use common matrix indexing. For example, the top left panel can be accessed using `axes[0, 0]`.\n",
    "\n",
    "You can pass the Axes object to seaborn functions using the ax keyword. \n",
    "\n",
    "`sns.swarmplot(x=\"MYCN_status\", y=\"MYCN_expression\", data=df, ax=axes[0,0]`)"
   ]
  },
  {
   "cell_type": "markdown",
   "metadata": {},
   "source": [
    "## Exercise 5:\n",
    "1. Make a four panel figure where the neuroblastoma MYCN expression distribution is plotted in the top left panel, the swarm plot is in the top right panel, the boxplot is in the bottom left panel, and the `sns.violinplot` is in the bottom right panel."
   ]
  },
  {
   "cell_type": "code",
   "execution_count": null,
   "metadata": {},
   "outputs": [],
   "source": []
  },
  {
   "cell_type": "markdown",
   "metadata": {},
   "source": [
    "## Barplot\n",
    "\n",
    "Seaborn also has a nice barplot implementation. Make the same barplot you used in the matplotlib notebook, but use the `sns.barplot` function."
   ]
  },
  {
   "cell_type": "code",
   "execution_count": 10,
   "metadata": {},
   "outputs": [],
   "source": [
    "#help(sns.barplot)"
   ]
  },
  {
   "cell_type": "markdown",
   "metadata": {},
   "source": [
    "If you get a strange error, try converting the MYCN expression to a numeric type using the pd.to_numeric function.\n",
    "\n",
    "`df[\"MYCN\"] = pd.to_numeric(df[\"MYCN\"])`"
   ]
  },
  {
   "cell_type": "code",
   "execution_count": null,
   "metadata": {},
   "outputs": [],
   "source": []
  }
 ],
 "metadata": {
  "kernelspec": {
   "display_name": "Python 3",
   "language": "python",
   "name": "python3"
  },
  "language_info": {
   "codemirror_mode": {
    "name": "ipython",
    "version": 3
   },
   "file_extension": ".py",
   "mimetype": "text/x-python",
   "name": "python",
   "nbconvert_exporter": "python",
   "pygments_lexer": "ipython3",
   "version": "3.6.5"
  }
 },
 "nbformat": 4,
 "nbformat_minor": 2
}
