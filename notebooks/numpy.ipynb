{
 "cells": [
  {
   "cell_type": "markdown",
   "metadata": {},
   "source": [
    "## Overview\n",
    "The goal of this notebook is to practice using Jupyter notebooks. This notebook emphasizes the numpy tools. The numpy library is optimized for many scientific computing tasks, but here we will focus on linear algebra operations. The basic idea is that the numpy functions will allow you to make linear algebra calculations more quickly than writing your own functions in python.\n",
    "\n",
    "The linear algebra images for this sections were taken from this great blog: https://towardsdatascience.com/linear-algebra-for-deep-learning-f21d7e7d7f23"
   ]
  },
  {
   "cell_type": "code",
   "execution_count": null,
   "metadata": {},
   "outputs": [],
   "source": [
    "# Import the numpy library \n",
    "# It's common practice to rename the library to something more\n",
    "# convenient to type.\n",
    "import numpy as np\n",
    "from IPython.display import Image"
   ]
  },
  {
   "cell_type": "markdown",
   "metadata": {},
   "source": [
    "The basic numpy object is the array. Jupyter notebooks make it convienient to learn more about unfamiliar python objects. Try \n",
    "using the help() function to learn more about numpy arrays."
   ]
  },
  {
   "cell_type": "code",
   "execution_count": null,
   "metadata": {},
   "outputs": [],
   "source": [
    "#help(np.array)"
   ]
  },
  {
   "cell_type": "code",
   "execution_count": null,
   "metadata": {},
   "outputs": [],
   "source": [
    "# Convert a python list to a numpy array\n",
    "\n",
    "x = np.array([1, 2, 3, 4])\n",
    "\n",
    "x"
   ]
  },
  {
   "cell_type": "code",
   "execution_count": null,
   "metadata": {},
   "outputs": [],
   "source": [
    "# Convert the array to a column vector\n",
    "\n",
    "x.reshape(4, 1)"
   ]
  },
  {
   "cell_type": "code",
   "execution_count": null,
   "metadata": {},
   "outputs": [],
   "source": [
    "# Now try converting the column vector \n",
    "# to a square matrix\n",
    "\n",
    "# x.reshape(?, ?)"
   ]
  },
  {
   "cell_type": "markdown",
   "metadata": {},
   "source": [
    "You will find real speed gains by using numpy functions. We will assess the performance gains with numpy by writing our own python implementations of simple linear algebra functions. Keep in mind that you will need a relatively large vector or matrix to see a significant difference. \n",
    "\n",
    "Use the %%time python magic to assess the speed of your calculations."
   ]
  },
  {
   "cell_type": "code",
   "execution_count": null,
   "metadata": {},
   "outputs": [],
   "source": [
    "%%time\n",
    "\n",
    "print('TaDah!\\n')"
   ]
  },
  {
   "cell_type": "code",
   "execution_count": null,
   "metadata": {},
   "outputs": [],
   "source": [
    "# You can use the numpy random module to sample random vectors and \n",
    "# matrices\n",
    "\n",
    "A = np.random.random((3, 3))\n",
    "B = np.random.random((3, 1))\n",
    "\n",
    "# Use these matrices to compare the performance\n",
    "# of your implementations.\n",
    "python_A = A.tolist()\n",
    "python_B = B.tolist()\n",
    "\n",
    "numpy_A = A.copy()\n",
    "numpy_B = B.copy()"
   ]
  },
  {
   "cell_type": "markdown",
   "metadata": {},
   "source": [
    "## Matrix-Scalar Operations\n",
    "\n",
    "#### Exercise\n",
    "Write a pure python function that scales a matrix / vector by a scalar. Use the %%time magic to assess the performance of your implementation. Use a list of lists for the python implementation and a numpy array for the numpy implementation. The input to the function should be a scalar and a matrix."
   ]
  },
  {
   "cell_type": "code",
   "execution_count": null,
   "metadata": {},
   "outputs": [],
   "source": [
    "Image(url='https://cdn-images-1.medium.com/max/1000/0*IEyBut7oLbEqkfh9.jpg')"
   ]
  },
  {
   "cell_type": "markdown",
   "metadata": {},
   "source": [
    "### Exercise\n",
    "\n",
    "Now use the numpy implementation. The numpy function for multiplying a scalar and a matrix is np.multiply. Numpy will modify the underlying array, so use a copy of the matrix you randomly generated."
   ]
  },
  {
   "cell_type": "code",
   "execution_count": null,
   "metadata": {},
   "outputs": [],
   "source": [
    "#help(np.multiply)"
   ]
  },
  {
   "cell_type": "markdown",
   "metadata": {},
   "source": [
    "## Matrix-Vector Operations\n",
    "\n",
    "Write a pure python implementation of the dot product between a matrix and a vector. If you need a reminder, you can review the slides in the workshop directory.\n",
    "\n",
    "Hint: You will need three for-loops."
   ]
  },
  {
   "cell_type": "code",
   "execution_count": null,
   "metadata": {},
   "outputs": [],
   "source": [
    "Image(url='https://cdn-images-1.medium.com/max/800/0*9OP1A-ai99b6S53b.jpg')"
   ]
  },
  {
   "cell_type": "markdown",
   "metadata": {},
   "source": [
    "Now perform the same calculation using the numpy implementatin. \n",
    "The numpy function to multiply a matrix and a vector is np.dot"
   ]
  },
  {
   "cell_type": "code",
   "execution_count": null,
   "metadata": {},
   "outputs": [],
   "source": [
    "#help(np.dot)"
   ]
  },
  {
   "cell_type": "markdown",
   "metadata": {},
   "source": [
    "## Challenge Exercise:\n",
    "\n",
    "You may not observe a signficant difference if you use relatively small matrices and vectors. Make the largest vectors and matrices you can and let's see who in the class can create the largest difference."
   ]
  },
  {
   "cell_type": "code",
   "execution_count": null,
   "metadata": {},
   "outputs": [],
   "source": []
  }
 ],
 "metadata": {
  "kernelspec": {
   "display_name": "Python 3",
   "language": "python",
   "name": "python3"
  },
  "language_info": {
   "codemirror_mode": {
    "name": "ipython",
    "version": 3
   },
   "file_extension": ".py",
   "mimetype": "text/x-python",
   "name": "python",
   "nbconvert_exporter": "python",
   "pygments_lexer": "ipython3",
   "version": "3.6.5"
  }
 },
 "nbformat": 4,
 "nbformat_minor": 2
}
